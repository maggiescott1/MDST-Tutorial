{
 "cells": [
  {
   "cell_type": "markdown",
   "metadata": {
    "colab_type": "text",
    "id": "0a8IYAJUshu1"
   },
   "source": [
    "# Checkpoint 0 \n",
    "## Do not remove comments that start with: \"# @@@\" (Those are question tags)"
   ]
  },
  {
   "cell_type": "markdown",
   "metadata": {},
   "source": [
    "These exercises are a mix of Python and Pandas practice. Most should be no more than a few lines of code! \n",
    "\n",
    "Do not remove comments that start with: \"# @@@\" (Those are question tags)"
   ]
  },
  {
   "cell_type": "code",
   "execution_count": 15,
   "metadata": {
    "colab": {},
    "colab_type": "code",
    "id": "Jo6wuTgkshu1"
   },
   "outputs": [
    {
     "name": "stdout",
     "output_type": "stream",
     "text": [
      "[1, 2, 3, 4, 5, 6]\n"
     ]
    }
   ],
   "source": [
    "# @@@ Question 1: Here is a python list, initialize another list called b with the same values as a.\n",
    "a = [1, 2, 3, 4, 5, 6]\n",
    "b = [1, 2, 3, 4, 5, 6]\n",
    "print(b)"
   ]
  },
  {
   "cell_type": "code",
   "execution_count": 16,
   "id": "779d96b1",
   "metadata": {},
   "outputs": [
    {
     "name": "stdout",
     "output_type": "stream",
     "text": [
      "[4, 5, 6]\n"
     ]
    }
   ],
   "source": [
    "# @@@ Question 2: get a list containing the last 3 elements of b \n",
    "# Yes, you can just type out [4, 5, 6] but we really want to see you demonstrate you know how to use list slicing in Python\n",
    "\n",
    "lst = b[-3:]\n",
    "print(lst)"
   ]
  },
  {
   "cell_type": "code",
   "execution_count": 41,
   "id": "b6a54def",
   "metadata": {},
   "outputs": [
    {
     "name": "stdout",
     "output_type": "stream",
     "text": [
      "[1, 2, 3, 4, 5, 6, 7, 8, 9, 10, 11, 12, 13, 14, 15, 16, 17, 18, 19, 20]\n"
     ]
    }
   ],
   "source": [
    "# @@@ Question 3: Create a list of numbers from 1 to 20\n",
    "\n",
    "lst3 = list(range(1, 21))\n",
    "print(lst3)\n"
   ]
  },
  {
   "cell_type": "code",
   "execution_count": 64,
   "id": "487873ac",
   "metadata": {},
   "outputs": [
    {
     "name": "stdout",
     "output_type": "stream",
     "text": [
      "[2, 4, 6, 8, 10, 12, 14, 16, 18, 20, 22, 24, 26, 28, 30, 32, 34, 36, 38, 40, 42, 44, 46, 48, 50, 52, 54, 56, 58, 60, 62, 64, 66, 68, 70, 72, 74, 76, 78, 80, 82, 84, 86, 88, 90, 92, 94, 96, 98, 100]\n"
     ]
    }
   ],
   "source": [
    "# @@@ Question 4: now get a list with only the even numbers between 1 and 100\n",
    "\n",
    "lst4 = list(range(2, 101, 2))\n",
    "print(lst4)\n"
   ]
  },
  {
   "cell_type": "code",
   "execution_count": 77,
   "id": "3d4bb5dd",
   "metadata": {},
   "outputs": [
    {
     "name": "stdout",
     "output_type": "stream",
     "text": [
      "50.0\n"
     ]
    }
   ],
   "source": [
    "# @@@ Question 5: write a function that takes two numbers as arguments\n",
    "# and returns the first number divided by the second\n",
    "\n",
    "def divide_nums(num1, num2):\n",
    "    return num1/num2\n",
    "\n",
    "print(divide_nums(100, 2))"
   ]
  },
  {
   "cell_type": "code",
   "execution_count": 87,
   "id": "f55df04e",
   "metadata": {},
   "outputs": [
    {
     "name": "stdout",
     "output_type": "stream",
     "text": [
      "1\n",
      "2\n",
      "fizz\n",
      "4\n",
      "buzz\n",
      "fizz\n",
      "7\n",
      "8\n",
      "fizz\n",
      "buzz\n",
      "11\n",
      "fizz\n",
      "13\n",
      "14\n",
      "fizzbuzz\n",
      "16\n",
      "17\n",
      "fizz\n",
      "19\n",
      "buzz\n",
      "fizz\n",
      "22\n",
      "23\n",
      "fizz\n",
      "buzz\n",
      "26\n",
      "fizz\n",
      "28\n",
      "29\n",
      "fizzbuzz\n"
     ]
    }
   ],
   "source": [
    "# @@@ Queston 6: fizzbuzz\n",
    "# you will need to use both iteration and control flow \n",
    "# go through all numbers from 1 to 30 in order\n",
    "# if the number is a multiple of 3, print fizz\n",
    "# if the number is a multiple of 5, print buzz\n",
    "# if the number is a multiple of 3 and 5, print fizzbuzz and NOTHING ELSE\n",
    "# if the number is neither a multiple of 3 nor a multiple of 5, print the number\n",
    "\n",
    "nums = list(range(1, 31))\n",
    "def fizzbuzz():\n",
    "    for num in nums:\n",
    "        if num % 3 == 0 and num % 5 == 0:\n",
    "            print(\"fizzbuzz\")\n",
    "        elif num % 3 == 0:\n",
    "            print(\"fizz\")\n",
    "        elif num % 5 == 0:\n",
    "            print(\"buzz\")\n",
    "        else:\n",
    "            print(num)\n",
    "\n",
    "fizzbuzz()"
   ]
  },
  {
   "cell_type": "code",
   "execution_count": 96,
   "id": "78aace0b",
   "metadata": {},
   "outputs": [],
   "source": [
    "# @@@ Question 7: create a dictionary that reflects the following menu pricing (taken from Ahmo's)\n",
    "# Gyro: $9 \n",
    "# Burger: $9\n",
    "# Greek Salad: $8\n",
    "# Philly Steak: $10\n",
    "\n",
    "menu = {\n",
    "    \"Gyro\": 9,\n",
    "    \"Burger\": 9,\n",
    "    \"Greek Salad\": 8,\n",
    "    \"Philly Steak\": 10\n",
    "    }"
   ]
  },
  {
   "cell_type": "code",
   "execution_count": 125,
   "metadata": {
    "colab": {},
    "colab_type": "code",
    "id": "WzCQ5HOJshvA"
   },
   "outputs": [
    {
     "name": "stdout",
     "output_type": "stream",
     "text": [
      "<class 'pandas.core.frame.DataFrame'>\n"
     ]
    }
   ],
   "source": [
    "# @@@ Question 8: load in the \"starbucks.csv\" dataset\n",
    "# refer to how we read the cereal.csv dataset in the tutorial\n",
    "\n",
    "import pandas as pd\n",
    "df = pd.read_csv(\"../data/starbucks.csv\")\n",
    "print(type(df))\n"
   ]
  },
  {
   "cell_type": "code",
   "execution_count": 126,
   "id": "ac0f0c12",
   "metadata": {},
   "outputs": [],
   "source": [
    "# @@@ Question 9: select all rows with more than and including 400 calories"
   ]
  },
  {
   "cell_type": "code",
   "execution_count": 127,
   "id": "ee8f8241",
   "metadata": {},
   "outputs": [],
   "source": [
    "# @@@ Question 10: select all rows whose vitamin c content is higher than the iron content"
   ]
  },
  {
   "cell_type": "code",
   "execution_count": 128,
   "id": "d4de48bb",
   "metadata": {},
   "outputs": [],
   "source": [
    "# @@@ Question 11: create a new column containing the caffeine per calories of each drink"
   ]
  },
  {
   "cell_type": "code",
   "execution_count": 129,
   "metadata": {
    "colab": {},
    "colab_type": "code",
    "id": "rIoxaSxHshvB"
   },
   "outputs": [],
   "source": [
    "# @@@ Question 12: what is the average calorie across all items?\n"
   ]
  },
  {
   "cell_type": "code",
   "execution_count": 130,
   "metadata": {
    "colab": {},
    "colab_type": "code",
    "id": "ABX7i49FshvD"
   },
   "outputs": [],
   "source": [
    "# @@@ Question 13: how many different categories of beverages are there?\n"
   ]
  },
  {
   "cell_type": "code",
   "execution_count": 131,
   "metadata": {
    "colab": {},
    "colab_type": "code",
    "id": "P9QatZAzshvE"
   },
   "outputs": [],
   "source": [
    "# @@@ Question 14: what is the average # calories for each beverage category?\n"
   ]
  }
 ],
 "metadata": {
  "kernelspec": {
   "display_name": "base",
   "language": "python",
   "name": "python3"
  },
  "language_info": {
   "codemirror_mode": {
    "name": "ipython",
    "version": 3
   },
   "file_extension": ".py",
   "mimetype": "text/x-python",
   "name": "python",
   "nbconvert_exporter": "python",
   "pygments_lexer": "ipython3",
   "version": "3.12.7"
  }
 },
 "nbformat": 4,
 "nbformat_minor": 5
}
